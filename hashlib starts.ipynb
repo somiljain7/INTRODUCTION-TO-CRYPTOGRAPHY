{
 "cells": [
  {
   "cell_type": "code",
   "execution_count": 1,
   "metadata": {},
   "outputs": [
    {
     "name": "stdout",
     "output_type": "stream",
     "text": [
      "{'sha3_384', 'sha512-224', 'md5', 'sha3-512', 'sha384', 'shake256', 'sha3_512', 'sha3_224', 'sha512-256', 'sha3_256', 'blake2b512', 'ripemd160', 'shake_128', 'sha3-384', 'sha3-224', 'sha512', 'shake_256', 'sha224', 'sha256', 'blake2b', 'blake2s256', 'md5-sha1', 'shake128', 'whirlpool', 'sm3', 'sha1', 'md4', 'blake2s', 'sha3-256', 'mdc2'}\n",
      "{'sha512', 'sha3_384', 'sha3_512', 'shake_256', 'sha224', 'sha3_224', 'sha256', 'blake2b', 'sha3_256', 'sha1', 'md5', 'shake_128', 'blake2s', 'sha384'}\n"
     ]
    }
   ],
   "source": [
    "\n",
    "import hashlib\n",
    "\n",
    "print(hashlib.algorithms_available)\n",
    "print(hashlib.algorithms_guaranteed)\n",
    "\n"
   ]
  },
  {
   "cell_type": "code",
   "execution_count": 4,
   "metadata": {},
   "outputs": [
    {
     "name": "stdout",
     "output_type": "stream",
     "text": [
      "HASHING 256 BE LIKE : b'\\xees/\\x13\\xb7\\x04\\xa5U\\xf1\\x88\\xa5m$j\\xa1~\\\\9\\xd2\\xba0\\xfb~\\xbbQ\\x81\\xae\\xc3\\x82o#\\xf0'\n"
     ]
    }
   ],
   "source": [
    "x = hashlib.sha256()\n",
    "#THIS IS JUST TRYING SHA256\n",
    "x.update(b\"YO GOOGLE SUCKS BRO\")\n",
    "print('HASHING 256 BE LIKE :', x.digest())"
   ]
  },
  {
   "cell_type": "code",
   "execution_count": null,
   "metadata": {},
   "outputs": [],
   "source": []
  }
 ],
 "metadata": {
  "kernelspec": {
   "display_name": "Python 3",
   "language": "python",
   "name": "python3"
  },
  "language_info": {
   "codemirror_mode": {
    "name": "ipython",
    "version": 3
   },
   "file_extension": ".py",
   "mimetype": "text/x-python",
   "name": "python",
   "nbconvert_exporter": "python",
   "pygments_lexer": "ipython3",
   "version": "3.7.4"
  }
 },
 "nbformat": 4,
 "nbformat_minor": 2
}
